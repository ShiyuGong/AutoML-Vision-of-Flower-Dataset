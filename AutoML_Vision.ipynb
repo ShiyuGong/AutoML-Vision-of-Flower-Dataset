{
  "nbformat": 4,
  "nbformat_minor": 0,
  "metadata": {
    "colab": {
      "name": "HW8 AutoML.ipynb",
      "version": "0.3.2",
      "provenance": [],
      "collapsed_sections": [],
      "toc_visible": true,
      "include_colab_link": true
    },
    "kernelspec": {
      "name": "python3",
      "display_name": "Python 3"
    }
  },
  "cells": [
    {
      "cell_type": "markdown",
      "metadata": {
        "id": "view-in-github",
        "colab_type": "text"
      },
      "source": [
        "<a href=\"https://colab.research.google.com/github/ShiyuGong/AutoML-Vision-of-Flower-Dataset/blob/master/AutoML_Vision.ipynb\" target=\"_parent\"><img src=\"https://colab.research.google.com/assets/colab-badge.svg\" alt=\"Open In Colab\"/></a>"
      ]
    },
    {
      "metadata": {
        "id": "MkL3x9UX3oeT",
        "colab_type": "text"
      },
      "cell_type": "markdown",
      "source": [
        "## ***Overview ***\n",
        "\n",
        "AutoML Vision enables us to train machine learning models to classify images according to our own defined labels. For this project, we will utilize free tier AutoML to train our own model of the flower dataset (the publicly available dataset of flower images from gs://cloud-ml-data/img/flower_photos/), evaluate the model performance and then predict two flower pictures with Vision API.\n"
      ]
    },
    {
      "metadata": {
        "id": "3Lh8xx1TzFK0",
        "colab_type": "text"
      },
      "cell_type": "markdown",
      "source": [
        "## Configure project environment"
      ]
    },
    {
      "metadata": {
        "id": "HlgG6MjeDNkp",
        "colab_type": "text"
      },
      "cell_type": "markdown",
      "source": [
        "1. In the GCP console, go to the Manage resources page and select or create a project, \n",
        "2. then make sure that billing is enabled for the Google Cloud Platform project and enable the AutoML Vision APIs. \n",
        "3. After that, a service account needs to be created and a key file should be downloaded and stored in the Google Drive. \n",
        "4. In the following steps, set the GOOGLE_APPLICATION_CREDENTIALS environment variable to the path to the service account key file that we downloaded when we created the service account. \n",
        "5. Add the new service account to the AutoML Editor IAM role to allow the AutoML Vision service accounts to access the Google Cloud project resources. \n",
        "6.Then, set the PROJECT_ID and REGION_NAME environment variables. \n",
        "7.Create a Google Cloud Storage bucket to store the documents that we will use to train your custom model. \n",
        "8.Copy the publicly available dataset of flower images into our Google Cloud Storage bucket."
      ]
    },
    {
      "metadata": {
        "id": "bNGt-WI25uUd",
        "colab_type": "code",
        "outputId": "48b0cc13-9acd-45c5-d7ba-8201a422fe33",
        "colab": {
          "base_uri": "https://localhost:8080/",
          "height": 34
        }
      },
      "cell_type": "code",
      "source": [
        "from google.colab import drive\n",
        "drive.mount('/content/gdrive', force_remount=True)"
      ],
      "execution_count": 0,
      "outputs": [
        {
          "output_type": "stream",
          "text": [
            "Mounted at /content/gdrive\n"
          ],
          "name": "stdout"
        }
      ]
    },
    {
      "metadata": {
        "id": "8m55Y0zw6j9w",
        "colab_type": "code",
        "outputId": "f6d6a30f-b1f5-4762-e74d-247a7d99b859",
        "colab": {
          "base_uri": "https://localhost:8080/",
          "height": 34
        }
      },
      "cell_type": "code",
      "source": [
        "import os;os.listdir(\"/content/gdrive/My Drive/awsml\")"
      ],
      "execution_count": 0,
      "outputs": [
        {
          "output_type": "execute_result",
          "data": {
            "text/plain": [
              "['config.txt', 'credentials.txt', 'cloudai-16c0b9420d70.json']"
            ]
          },
          "metadata": {
            "tags": []
          },
          "execution_count": 12
        }
      ]
    },
    {
      "metadata": {
        "id": "kBgfn7L86qfN",
        "colab_type": "code",
        "outputId": "e2eb5f20-ba80-4ca0-9b2c-e5d6294ff22c",
        "colab": {
          "base_uri": "https://localhost:8080/",
          "height": 85
        }
      },
      "cell_type": "code",
      "source": [
        "!ls -la /content/gdrive/My\\ Drive/awsml"
      ],
      "execution_count": 0,
      "outputs": [
        {
          "output_type": "stream",
          "text": [
            "total 4\n",
            "-rw------- 1 root root 2311 Mar  5 02:18 cloudai-16c0b9420d70.json\n",
            "-rw------- 1 root root   28 Jan  9 04:01 config.txt\n",
            "-rw------- 1 root root  113 Jan  9 04:26 credentials.txt\n"
          ],
          "name": "stdout"
        }
      ]
    },
    {
      "metadata": {
        "id": "DWM0fJGs6q8t",
        "colab_type": "code",
        "outputId": "4f17f083-3e35-451b-abf0-feeb3bc91f85",
        "colab": {
          "base_uri": "https://localhost:8080/",
          "height": 34
        }
      },
      "cell_type": "code",
      "source": [
        "!export GOOGLE_APPLICATION_CREDENTIALS=\"/content/gdrive/My\\ Drive/awsml/cloudai-16c0b9420d70.json\"\n",
        "!gcloud auth activate-service-account --key-file /content/gdrive/My\\ Drive/awsml/cloudai-16c0b9420d70.json\n",
        "!pip install --upgrade -q google-cloud-vision"
      ],
      "execution_count": 0,
      "outputs": [
        {
          "output_type": "stream",
          "text": [
            "Activated service account credentials for: [cloudai@cloudai-233600.iam.gserviceaccount.com]\n"
          ],
          "name": "stdout"
        }
      ]
    },
    {
      "metadata": {
        "id": "evcOAvR9-XlR",
        "colab_type": "text"
      },
      "cell_type": "markdown",
      "source": [
        "## AutoML Vision Trained Model of Flower Dataset"
      ]
    },
    {
      "metadata": {
        "id": "pmWUIZ1dDK-w",
        "colab_type": "text"
      },
      "cell_type": "markdown",
      "source": [
        "After 3667 flower images are imported, we could use free tier of AutoML to train our model. The evaluation results provided are as follows. The average precision is 0.996; Based on a score threshold of 0.5, Precision is 98.466% and Recall is 96.396%. (A high precision model produces fewer false positives, and a high recall model produces fewer false negatives.) Overall, the AutoML Vision trained model of flower dataset has a really good performance."
      ]
    },
    {
      "metadata": {
        "id": "4pgI0dg-tM4S",
        "colab_type": "text"
      },
      "cell_type": "markdown",
      "source": [
        "![automl_model1](https://docs.google.com/uc?export=download&id=1ZiN_CQt1i7nw7b0ndO5fefg7ZgvMAQw7)\n",
        "![automl_model2](https://docs.google.com/uc?export=download&id=1MrE3-1GkywNTYbVfcrnGTtjE8RIj2iFB)\n",
        "\n"
      ]
    },
    {
      "metadata": {
        "id": "8Zn1uGMnz65g",
        "colab_type": "text"
      },
      "cell_type": "markdown",
      "source": [
        "## Predict with Vision API "
      ]
    },
    {
      "metadata": {
        "id": "RG5um843D3pG",
        "colab_type": "text"
      },
      "cell_type": "markdown",
      "source": [
        "In this step, we will go further to predict two flower pictures (one is daisy and the other is sunflower) with Vision API. After setting the project id, compute region, model id, file name and score threshold, we could get the full path of the model and create client for prediction service and then read the images and assign to payload. \n",
        "\n",
        "The predicted results for both images are really good. The predicted class names are correct with high predicted class scores, which are 0.99986732006073 and 0.9999873638153076 respectively for daisy and sunflower.\n"
      ]
    },
    {
      "metadata": {
        "id": "HfqHP9IHCrS_",
        "colab_type": "code",
        "outputId": "4a2cfab8-0022-4235-e396-c025687fba98",
        "colab": {
          "base_uri": "https://localhost:8080/",
          "height": 34
        }
      },
      "cell_type": "code",
      "source": [
        "os.listdir(\"/content/gdrive/My Drive/MachineLearning/AutoML\")"
      ],
      "execution_count": 0,
      "outputs": [
        {
          "output_type": "execute_result",
          "data": {
            "text/plain": [
              "['sunflower.jpg', 'daisy.jpg']"
            ]
          },
          "metadata": {
            "tags": []
          },
          "execution_count": 19
        }
      ]
    },
    {
      "metadata": {
        "id": "wvaZZ1Pi-nsD",
        "colab_type": "text"
      },
      "cell_type": "markdown",
      "source": [
        "![automl_model1](https://docs.google.com/uc?export=download&id=1GLe31TPEt8bz40RUyP3KGXH07kKHkFpb)\n",
        "![automl_model2](https://docs.google.com/uc?export=download&id=1wptx5u84y-jB5PM9WGYH2ZCUObxKX6bq)\n"
      ]
    },
    {
      "metadata": {
        "id": "8BTtXy9-AtPJ",
        "colab_type": "code",
        "colab": {}
      },
      "cell_type": "code",
      "source": [
        "!pip uninstall gcloud google-cloud\n",
        "!pip install --upgrade google-cloud-automl"
      ],
      "execution_count": 0,
      "outputs": []
    },
    {
      "metadata": {
        "id": "V00xkYnZuDuL",
        "colab_type": "code",
        "outputId": "8a3910e7-1970-4063-b431-1b82876d4a0f",
        "colab": {
          "base_uri": "https://localhost:8080/",
          "height": 68
        }
      },
      "cell_type": "code",
      "source": [
        "project_id = 'cloudai-233600'\n",
        "compute_region = 'us-central1'\n",
        "model_id = 'ICN6100566313772959995'\n",
        "file_name = '/content/gdrive/My Drive/MachineLearning/AutoML/daisy.jpg'\n",
        "score_threshold = '0.5'\n",
        "\n",
        "from google.cloud import automl_v1beta1 as automl\n",
        "\n",
        "automl_client = automl.AutoMlClient()\n",
        "\n",
        "# Get the full path of the model.\n",
        "model_full_id = automl_client.model_path(\n",
        "    project_id, compute_region, model_id\n",
        ")\n",
        "\n",
        "# Create client for prediction service.\n",
        "prediction_client = automl.PredictionServiceClient()\n",
        "\n",
        "# Read the image and assign to payload.\n",
        "with io.open(file_name, 'rb') as image_file:\n",
        "    content = image_file.read()\n",
        "\n",
        "payload = {\"image\": {\"image_bytes\": content}}\n",
        "\n",
        "# params is additional domain-specific parameters.\n",
        "# score_threshold is used to filter the result\n",
        "# Initialize params\n",
        "params = {}\n",
        "if score_threshold:\n",
        "    params = {\"score_threshold\": score_threshold}\n",
        "\n",
        "response = prediction_client.predict(model_full_id, payload, params)\n",
        "print(\"Prediction results of daisy.jpg:\")\n",
        "for result in response.payload:\n",
        "    print(\"Predicted class name: {}\".format(result.display_name))\n",
        "    print(\"Predicted class score: {}\".format(result.classification.score))\n",
        "    "
      ],
      "execution_count": 0,
      "outputs": [
        {
          "output_type": "stream",
          "text": [
            "Prediction results of daisy.jpg:\n",
            "Predicted class name: daisy\n",
            "Predicted class score: 0.99986732006073\n"
          ],
          "name": "stdout"
        }
      ]
    },
    {
      "metadata": {
        "id": "d-q7NrNkS2pP",
        "colab_type": "code",
        "outputId": "d33851e9-5c0f-4fec-d601-41badd900b2a",
        "colab": {
          "base_uri": "https://localhost:8080/",
          "height": 68
        }
      },
      "cell_type": "code",
      "source": [
        "file_name2 = '/content/gdrive/My Drive/MachineLearning/AutoML/sunflower.jpg'\n",
        "\n",
        "# Read the image and assign to payload.\n",
        "with io.open(file_name2, 'rb') as image_file:\n",
        "    content = image_file.read()\n",
        "\n",
        "payload = {\"image\": {\"image_bytes\": content}}\n",
        "\n",
        "# params is additional domain-specific parameters.\n",
        "# score_threshold is used to filter the result\n",
        "# Initialize params\n",
        "params = {}\n",
        "if score_threshold:\n",
        "    params = {\"score_threshold\": score_threshold}\n",
        "\n",
        "response = prediction_client.predict(model_full_id, payload, params)\n",
        "print(\"Prediction results of sunflower.jpg:\")\n",
        "for result in response.payload:\n",
        "    print(\"Predicted class name: {}\".format(result.display_name))\n",
        "    print(\"Predicted class score: {}\".format(result.classification.score))\n",
        "    "
      ],
      "execution_count": 0,
      "outputs": [
        {
          "output_type": "stream",
          "text": [
            "Prediction results of sunflower.jpg:\n",
            "Predicted class name: sunflowers\n",
            "Predicted class score: 0.9999873638153076\n"
          ],
          "name": "stdout"
        }
      ]
    },
    {
      "metadata": {
        "id": "HcLgWFcxD6Pd",
        "colab_type": "text"
      },
      "cell_type": "markdown",
      "source": [
        "## Conclusion"
      ]
    },
    {
      "metadata": {
        "id": "ZOjsqgedD91P",
        "colab_type": "text"
      },
      "cell_type": "markdown",
      "source": [
        "AutoML Vision, a graphical drag-and-drop tool that lets users leverage Google’s cloud computing backend to train self-learning object recognition and image detection models, is really useful for data analysis, which saves us time to train the model by ourselves and provides high-performance models. What we need to do is only to learn how to call APIs. "
      ]
    }
  ]
}